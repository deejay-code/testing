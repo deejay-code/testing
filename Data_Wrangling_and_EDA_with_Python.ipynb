{
  "nbformat": 4,
  "nbformat_minor": 0,
  "metadata": {
    "colab": {
      "provenance": [],
      "authorship_tag": "ABX9TyMcNa9Tzt25oPYmo62vJNzO",
      "include_colab_link": true
    },
    "kernelspec": {
      "name": "python3",
      "display_name": "Python 3"
    },
    "language_info": {
      "name": "python"
    }
  },
  "cells": [
    {
      "cell_type": "markdown",
      "metadata": {
        "id": "view-in-github",
        "colab_type": "text"
      },
      "source": [
        "<a href=\"https://colab.research.google.com/github/deejay-code/testing/blob/main/Data_Wrangling_and_EDA_with_Python.ipynb\" target=\"_parent\"><img src=\"https://colab.research.google.com/assets/colab-badge.svg\" alt=\"Open In Colab\"/></a>"
      ]
    },
    {
      "cell_type": "markdown",
      "source": [
        "CODING TASK #1 IMPORT DATASET AND PERFORM BASIC STATISTICAL DATA ANALYSIS"
      ],
      "metadata": {
        "id": "Dm9sH3HEGgno"
      }
    },
    {
      "cell_type": "code",
      "execution_count": 31,
      "metadata": {
        "id": "QHttHNvkyAXb"
      },
      "outputs": [],
      "source": [
        "# Import Pandas Library\n",
        "import pandas as pd"
      ]
    },
    {
      "cell_type": "code",
      "source": [
        "# Force Pandas to display all rows and columns\n",
        "pd.set_option('display.max_columns', None)\n",
        "pd.set_option('display.max_rows', None)"
      ],
      "metadata": {
        "id": "L4u3cFb0Ivk3"
      },
      "execution_count": 32,
      "outputs": []
    },
    {
      "cell_type": "code",
      "source": [
        "#Let's read a CSV file using Pandas as follows\n",
        "hr_df = pd.read_csv(r'/content/sample_data/Human_Resources.csv')\n",
        "hr_df"
      ],
      "metadata": {
        "id": "dYrm34tJKJ7B"
      },
      "execution_count": null,
      "outputs": []
    },
    {
      "cell_type": "code",
      "source": [
        "#Let's obtain the datatype\n",
        "type(hr_df)"
      ],
      "metadata": {
        "colab": {
          "base_uri": "https://localhost:8080/"
        },
        "id": "nS8rleBfMsiw",
        "outputId": "14847141-8ecc-4e00-b5ab-7c225c40eb9c"
      },
      "execution_count": 42,
      "outputs": [
        {
          "output_type": "execute_result",
          "data": {
            "text/plain": [
              "pandas.core.frame.DataFrame"
            ]
          },
          "metadata": {},
          "execution_count": 42
        }
      ]
    },
    {
      "cell_type": "code",
      "source": [
        "#Obtain the first and last two rows in the dataframe\n",
        "hr_df.head(2)\n",
        "hr_df.tail(2)"
      ],
      "metadata": {
        "id": "xr88r03DOUsz"
      },
      "execution_count": null,
      "outputs": []
    },
    {
      "cell_type": "code",
      "source": [
        "hr_df.mean()"
      ],
      "metadata": {
        "id": "rX_7856dOopT"
      },
      "execution_count": null,
      "outputs": []
    },
    {
      "cell_type": "code",
      "source": [
        "hr_df.info()"
      ],
      "metadata": {
        "id": "yWm0GA-XRQnQ",
        "colab": {
          "base_uri": "https://localhost:8080/"
        },
        "outputId": "010870f6-45d8-431b-c2a3-21ad5aac1df9"
      },
      "execution_count": 58,
      "outputs": [
        {
          "output_type": "stream",
          "name": "stdout",
          "text": [
            "<class 'pandas.core.frame.DataFrame'>\n",
            "RangeIndex: 1470 entries, 0 to 1469\n",
            "Data columns (total 35 columns):\n",
            " #   Column                    Non-Null Count  Dtype  \n",
            "---  ------                    --------------  -----  \n",
            " 0   Age                       1470 non-null   int64  \n",
            " 1   MonthlyIncome             1467 non-null   float64\n",
            " 2   Attrition                 1470 non-null   object \n",
            " 3   BusinessTravel            1470 non-null   object \n",
            " 4   DailyRate                 1470 non-null   int64  \n",
            " 5   Department                1469 non-null   object \n",
            " 6   DistanceFromHome          1470 non-null   int64  \n",
            " 7   Education                 1470 non-null   int64  \n",
            " 8   EducationField            1469 non-null   object \n",
            " 9   EmployeeCount             1470 non-null   int64  \n",
            " 10  EmployeeNumber            1469 non-null   float64\n",
            " 11  EnvironmentSatisfaction   1470 non-null   int64  \n",
            " 12  Gender                    1469 non-null   object \n",
            " 13  HourlyRate                1470 non-null   int64  \n",
            " 14  JobInvolvement            1470 non-null   int64  \n",
            " 15  JobLevel                  1470 non-null   int64  \n",
            " 16  JobRole                   1469 non-null   object \n",
            " 17  JobSatisfaction           1470 non-null   int64  \n",
            " 18  MaritalStatus             1469 non-null   object \n",
            " 19  MonthlyRate               1468 non-null   float64\n",
            " 20  NumCompaniesWorked        1470 non-null   int64  \n",
            " 21  Over18                    1470 non-null   object \n",
            " 22  OverTime                  1470 non-null   object \n",
            " 23  PercentSalaryHike         1469 non-null   float64\n",
            " 24  PerformanceRating         1469 non-null   float64\n",
            " 25  RelationshipSatisfaction  1470 non-null   int64  \n",
            " 26  StandardHours             1470 non-null   int64  \n",
            " 27  StockOptionLevel          1470 non-null   int64  \n",
            " 28  TotalWorkingYears         1470 non-null   int64  \n",
            " 29  TrainingTimesLastYear     1470 non-null   int64  \n",
            " 30  WorkLifeBalance           1470 non-null   int64  \n",
            " 31  YearsAtCompany            1470 non-null   int64  \n",
            " 32  YearsInCurrentRole        1470 non-null   int64  \n",
            " 33  YearsSinceLastPromotion   1470 non-null   int64  \n",
            " 34  YearsWithCurrManager      1470 non-null   int64  \n",
            "dtypes: float64(5), int64(21), object(9)\n",
            "memory usage: 402.1+ KB\n"
          ]
        }
      ]
    },
    {
      "cell_type": "code",
      "source": [
        "hr_df.describe()"
      ],
      "metadata": {
        "id": "UJQLMN7fRkKi"
      },
      "execution_count": null,
      "outputs": []
    },
    {
      "cell_type": "markdown",
      "source": [
        "Exercise - First Exercise"
      ],
      "metadata": {
        "id": "MiVIzdqkS08k"
      }
    },
    {
      "cell_type": "code",
      "source": [
        "hr_df['Age'].describe()"
      ],
      "metadata": {
        "id": "ElJG3S8EzKKO"
      },
      "execution_count": null,
      "outputs": []
    },
    {
      "cell_type": "markdown",
      "source": [
        "CODING TASK #2. DEALING WITH MISSING DATA"
      ],
      "metadata": {
        "id": "t6aTl4VYDOy4"
      }
    },
    {
      "cell_type": "code",
      "source": [
        "#Let's locate rows that have Null values\n",
        "#Notice Row index 6 has many missing values\n",
        "hr_df.isnull().sum()"
      ],
      "metadata": {
        "colab": {
          "base_uri": "https://localhost:8080/"
        },
        "id": "aJhYXGSX_0PN",
        "outputId": "f86a5886-0314-4a35-d8c0-627163b13970"
      },
      "execution_count": 82,
      "outputs": [
        {
          "output_type": "execute_result",
          "data": {
            "text/plain": [
              "Age                         0\n",
              "MonthlyIncome               3\n",
              "Attrition                   0\n",
              "BusinessTravel              0\n",
              "DailyRate                   0\n",
              "Department                  1\n",
              "DistanceFromHome            0\n",
              "Education                   0\n",
              "EducationField              1\n",
              "EmployeeCount               0\n",
              "EmployeeNumber              1\n",
              "EnvironmentSatisfaction     0\n",
              "Gender                      1\n",
              "HourlyRate                  0\n",
              "JobInvolvement              0\n",
              "JobLevel                    0\n",
              "JobRole                     1\n",
              "JobSatisfaction             0\n",
              "MaritalStatus               1\n",
              "MonthlyRate                 2\n",
              "NumCompaniesWorked          0\n",
              "Over18                      0\n",
              "OverTime                    0\n",
              "PercentSalaryHike           1\n",
              "PerformanceRating           1\n",
              "RelationshipSatisfaction    0\n",
              "StandardHours               0\n",
              "StockOptionLevel            0\n",
              "TotalWorkingYears           0\n",
              "TrainingTimesLastYear       0\n",
              "WorkLifeBalance             0\n",
              "YearsAtCompany              0\n",
              "YearsInCurrentRole          0\n",
              "YearsSinceLastPromotion     0\n",
              "YearsWithCurrManager        0\n",
              "dtype: int64"
            ]
          },
          "metadata": {},
          "execution_count": 82
        }
      ]
    },
    {
      "cell_type": "code",
      "source": [
        "hr_df.()"
      ],
      "metadata": {
        "colab": {
          "base_uri": "https://localhost:8080/",
          "height": 134
        },
        "id": "kwPXHJfZH6rG",
        "outputId": "768b4bff-4654-444b-d8e1-0de91f0a4e4e"
      },
      "execution_count": 1,
      "outputs": [
        {
          "output_type": "error",
          "ename": "SyntaxError",
          "evalue": "ignored",
          "traceback": [
            "\u001b[0;36m  File \u001b[0;32m\"<ipython-input-1-afce9281e449>\"\u001b[0;36m, line \u001b[0;32m1\u001b[0m\n\u001b[0;31m    hr_df.()\u001b[0m\n\u001b[0m          ^\u001b[0m\n\u001b[0;31mSyntaxError\u001b[0m\u001b[0;31m:\u001b[0m invalid syntax\n"
          ]
        }
      ]
    }
  ]
}